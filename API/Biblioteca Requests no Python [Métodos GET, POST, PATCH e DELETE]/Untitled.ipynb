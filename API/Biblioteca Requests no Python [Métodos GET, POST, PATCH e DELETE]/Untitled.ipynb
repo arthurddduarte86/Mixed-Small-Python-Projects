{
 "cells": [
  {
   "cell_type": "markdown",
   "id": "0a85a717",
   "metadata": {},
   "source": [
    "#### Pegar informações - Método GET\n"
   ]
  },
  {
   "cell_type": "code",
   "execution_count": 1,
   "id": "ce602184",
   "metadata": {},
   "outputs": [
    {
     "name": "stdout",
     "output_type": "stream",
     "text": [
      "<Response [200]>\n",
      "{'USDBRL': {'code': 'USD', 'codein': 'BRL', 'name': 'Dólar Americano/Real Brasileiro', 'high': '5.2228', 'low': '5.2215', 'varBid': '0.0004', 'pctChange': '0.01', 'bid': '5.2217', 'ask': '5.2224', 'timestamp': '1665094485', 'create_date': '2022-10-06 19:14:45'}, 'EURBRL': {'code': 'EUR', 'codein': 'BRL', 'name': 'Euro/Real Brasileiro', 'high': '5.1176', 'low': '5.1108', 'varBid': '0.0026', 'pctChange': '0.05', 'bid': '5.1141', 'ask': '5.1169', 'timestamp': '1665094485', 'create_date': '2022-10-06 19:14:45'}, 'BTCBRL': {'code': 'BTC', 'codein': 'BRL', 'name': 'Bitcoin/Real Brasileiro', 'high': '106.492', 'low': '104.1', 'varBid': '-368', 'pctChange': '-0.35', 'bid': '104.429', 'ask': '104.489', 'timestamp': '1665094487', 'create_date': '2022-10-06 19:14:47'}}\n"
     ]
    }
   ],
   "source": [
    "# instalar a biblioteca requests   no prompt,=>    pip install requests\n",
    "import requests\n",
    "\n",
    "link = 'https://economia.awesomeapi.com.br/last/USD-BRL,EUR-BRL,BTC-BRL'\n",
    "requisicao = requests.get(link)\n",
    "\n",
    "print(requisicao)   # vai exibir o código da resposta\n",
    "print(requisicao.json())   # vai trazer o resultado em formato JSON"
   ]
  },
  {
   "cell_type": "markdown",
   "id": "5269db75",
   "metadata": {},
   "source": [
    "#### Criar informações - Método POST"
   ]
  },
  {
   "cell_type": "code",
   "execution_count": null,
   "id": "72bd1fad",
   "metadata": {},
   "outputs": [],
   "source": [
    "informacao = \"dicionario_python\"\n",
    "requisicao = requests.post(link, data=informacao)\n",
    "print(requisicao)\n",
    "print(requisicao.json())"
   ]
  },
  {
   "cell_type": "markdown",
   "id": "73562b6d",
   "metadata": {},
   "source": [
    "Para a prática, será usado um banco de dados no Firebase, criado por você. E fará a leitura e gravação de informações nele.\n",
    "Por exemplo, usando a seguinte API - https://teste01-b4ab0-default-rtdb.firebaseio.com  (Você deve criar uma nova, pois esta não existirá mais)."
   ]
  },
  {
   "cell_type": "code",
   "execution_count": 8,
   "id": "c74c730a",
   "metadata": {},
   "outputs": [
    {
     "name": "stdout",
     "output_type": "stream",
     "text": [
      "<Response [200]>\n",
      "{'1': {'Idade': 36, 'Nome': 'Arthur', 'Sexo': 'Masculino', 'Sobrenome': 'Duarte'}, '2': {'Idade': 20, 'Nome': 'Pedro', 'Sexo': 'Masculino'}, '-NDjSVeN9gUk7zt_587f': {'Idade': 23, 'Nome': 'Maria'}}\n",
      "<Response [200]>\n",
      "{'name': '-NDjSrJ1iIElpXcRzAw7'}\n"
     ]
    }
   ],
   "source": [
    "import requests\n",
    "\n",
    "link2 = \"https://teste01-b4ab0-default-rtdb.firebaseio.com/.json\"   # Regra do Firebase, adicionar  .json  no final\n",
    "requisicao = requests.get(link2)\n",
    "print(requisicao)\n",
    "print(requisicao.json())\n",
    "\n",
    "\n",
    "# newinfo  são as informações a serem enviadas pelo métido POST e todo o dicionário deve estar dentro de aspas simples\n",
    "newinfo = '{\"Nome\": \"Paula\", \"Idade\": 28}'\n",
    "requisicao2 = requests.post(link2, data=newinfo)\n",
    "print(requisicao2)\n",
    "print(requisicao2.json())   # retorna um código que o ID lá no banco de dados, gerado pelo Firebase de forma automatica"
   ]
  },
  {
   "cell_type": "markdown",
   "id": "4281e19c",
   "metadata": {},
   "source": [
    "#### Editar informação - Método PATCH"
   ]
  },
  {
   "cell_type": "code",
   "execution_count": null,
   "id": "79714a4d",
   "metadata": {},
   "outputs": [],
   "source": [
    "informacao = \"dicionario_python\"\n",
    "requisicao = requests.patch(link, data=informacao)\n",
    "print(requests)\n",
    "print(requests.json())"
   ]
  },
  {
   "cell_type": "code",
   "execution_count": 10,
   "id": "7cb21807",
   "metadata": {
    "scrolled": true
   },
   "outputs": [
    {
     "name": "stdout",
     "output_type": "stream",
     "text": [
      "<Response [200]>\n",
      "{'Nome': 'Maria', 'Idade': 31}\n"
     ]
    }
   ],
   "source": [
    "newinfo2 = '{\"Nome\": \"Maria\" , \"Idade\": 31}'   \n",
    "# deve conter as mesmas KEYS que a já existente lá no firebase, alteração apenas nos valores\n",
    "\n",
    "link3 = \"https://teste01-b4ab0-default-rtdb.firebaseio.com/-NDjSVeN9gUk7zt_587f.json\" \n",
    "# endereço com o ID gerado pelo Firebase para a Maria, do exemplo anterior\n",
    "\n",
    "requisicao3 = requests.patch(link3, data=newinfo2 )\n",
    "print(requisicao3)\n",
    "print(requisicao3.json())"
   ]
  },
  {
   "cell_type": "markdown",
   "id": "d5d927f7",
   "metadata": {},
   "source": [
    "#### DELETAR informação - Método DELETE"
   ]
  },
  {
   "cell_type": "code",
   "execution_count": 12,
   "id": "d817667c",
   "metadata": {},
   "outputs": [
    {
     "name": "stdout",
     "output_type": "stream",
     "text": [
      "<Response [200]>\n",
      "None\n"
     ]
    }
   ],
   "source": [
    "# requisicao = requests.del(link, data=newinfo)\n",
    "# Vamos deletar a última entrada no Firebase, usar o endereço dele terminado com  .json\n",
    "# https://teste01-b4ab0-default-rtdb.firebaseio.com/-NDjSrJ1iIElpXcRzAw7.json\n",
    "\n",
    "link4 = \"https://teste01-b4ab0-default-rtdb.firebaseio.com/-NDjSrJ1iIElpXcRzAw7.json\"\n",
    "requisicao4 = requests.delete(link4)\n",
    "\n",
    "print(requisicao4)   # se resposta 200 significa que deu certo\n",
    "print(requisicao4.json()) # a resposta vai ser None pois já não existe mais a informação"
   ]
  }
 ],
 "metadata": {
  "kernelspec": {
   "display_name": "Python 3 (ipykernel)",
   "language": "python",
   "name": "python3"
  },
  "language_info": {
   "codemirror_mode": {
    "name": "ipython",
    "version": 3
   },
   "file_extension": ".py",
   "mimetype": "text/x-python",
   "name": "python",
   "nbconvert_exporter": "python",
   "pygments_lexer": "ipython3",
   "version": "3.9.12"
  }
 },
 "nbformat": 4,
 "nbformat_minor": 5
}
