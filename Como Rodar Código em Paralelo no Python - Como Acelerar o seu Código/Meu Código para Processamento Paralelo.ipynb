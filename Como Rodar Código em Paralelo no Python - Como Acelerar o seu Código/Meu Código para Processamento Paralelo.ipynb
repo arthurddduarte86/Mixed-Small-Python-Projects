{
 "cells": [
  {
   "cell_type": "markdown",
   "id": "c6d3f912",
   "metadata": {},
   "source": [
    "#### HOW TO:  CÓDIGO PARALELO NO PYTHON"
   ]
  },
  {
   "cell_type": "markdown",
   "id": "9fe70da9",
   "metadata": {},
   "source": [
    "Primeiro, vamos usar o código abaixo como referência e realizar alterações para que ele use mais de um CORE da CPU"
   ]
  },
  {
   "cell_type": "code",
   "execution_count": 25,
   "id": "46af23f0",
   "metadata": {},
   "outputs": [
    {
     "name": "stdout",
     "output_type": "stream",
     "text": [
      "Defaulting to user installation because normal site-packages is not writeable\n",
      "Requirement already satisfied: joblib in c:\\programdata\\anaconda3\\lib\\site-packages (1.1.0)\n"
     ]
    }
   ],
   "source": [
    "import requests\n",
    "import time\n",
    "import os\n",
    "import pandas as pd\n",
    "\n",
    "# pra instalar a biblioteca de processamento paralelo aqui no Jupyter\n",
    "!pip install joblib \n",
    "# biblioteca pra processamento paralelo\n",
    "import joblib  \n",
    "\n",
    "# Para rodar este código fora do Jupyter, necessário ->  pandas, numpy, openpyxl"
   ]
  },
  {
   "cell_type": "code",
   "execution_count": 26,
   "id": "46232215",
   "metadata": {
    "scrolled": true
   },
   "outputs": [
    {
     "name": "stdout",
     "output_type": "stream",
     "text": [
      "Faturamento da Loja Iguatemi Campinas foi de R$149,959.00\n",
      "Faturamento da Loja Iguatemi Esplanada foi de R$103,342.00\n",
      "Faturamento da Loja Norte Shopping foi de R$101,491.00\n",
      "Faturamento da Loja Novo Shopping Ribeirão Preto foi de R$99,703.00\n",
      "Faturamento da Loja Palladium Shopping Curitiba foi de R$120,621.00\n",
      "Faturamento da Loja Parque Dom Pedro Shopping foi de R$122,055.00\n",
      "Faturamento da Loja Passei das Águas Shopping foi de R$112,089.00\n",
      "Faturamento da Loja Ribeirão Shopping foi de R$112,936.00\n",
      "Faturamento da Loja Rio Mar Recife foi de R$139,869.00\n",
      "Faturamento da Loja Rio Mar Shopping Fortaleza foi de R$127,890.00\n",
      "Faturamento da Loja Salvador Shopping foi de R$129,156.00\n",
      "Faturamento da Loja Shopping Barra foi de R$103,148.00\n",
      "Faturamento da Loja Shopping Center Interlagos foi de R$103,821.00\n",
      "Faturamento da Loja Shopping Center Leste Aricanduva foi de R$86,156.00\n",
      "Faturamento da Loja Shopping Eldorado foi de R$124,339.00\n",
      "Faturamento da Loja Shopping Ibirapuera foi de R$107,907.00\n",
      "Faturamento da Loja Shopping Iguatemi Fortaleza foi de R$124,182.00\n",
      "Faturamento da Loja Shopping Midway Mall foi de R$105,269.00\n",
      "Faturamento da Loja Shopping Morumbi foi de R$117,936.00\n",
      "Faturamento da Loja Shopping Recife foi de R$131,871.00\n",
      "Faturamento da Loja Shopping SP Market foi de R$110,833.00\n",
      "Faturamento da Loja Shopping União de Osasco foi de R$116,032.00\n",
      "Faturamento da Loja Shopping Vila Velha foi de R$115,896.00\n",
      "Demorou: 1.7607357501983643\n"
     ]
    }
   ],
   "source": [
    "tempo_inicial = time.time()   # coleta o tempo/instante na execução do código\n",
    "\n",
    "arquivos = os.listdir()\n",
    "\n",
    "tabela_final = pd.DataFrame()\n",
    "\n",
    "# vai ler cada nome de arquivo, e se for xlsx vai fazer a leitura do conteudo\n",
    "for arquivo in arquivos:\n",
    "    if \"xlsx\" in arquivo:\n",
    "        tabela = pd.read_excel(arquivo)\n",
    "        faturamento = tabela[\"Valor Final\"].sum()\n",
    "        print(f\"Faturamento da Loja {arquivo.replace('.xlsx', '')} foi de R${faturamento:,.2f}\")\n",
    "print(f\"Demorou: {time.time() - tempo_inicial}\")"
   ]
  },
  {
   "cell_type": "markdown",
   "id": "2446a091",
   "metadata": {},
   "source": [
    "Agora vamos adaptar o código acima."
   ]
  },
  {
   "cell_type": "code",
   "execution_count": 38,
   "id": "20df8982",
   "metadata": {
    "scrolled": true
   },
   "outputs": [
    {
     "name": "stdout",
     "output_type": "stream",
     "text": [
      "[None, None, None, None, None, None, None, None, None, None, None, None, None, None, None, None, None, None, None, None, None, None, None, None, None, 'Faturamento da Loja Iguatemi Campinas foi de R$149,959.00', 'Faturamento da Loja Iguatemi Esplanada foi de R$103,342.00', None, None, None, None, None, None, None, 'Faturamento da Loja Norte Shopping foi de R$101,491.00', 'Faturamento da Loja Novo Shopping Ribeirão Preto foi de R$99,703.00', None, None, None, None, None, None, None, None, 'Faturamento da Loja Palladium Shopping Curitiba foi de R$120,621.00', 'Faturamento da Loja Parque Dom Pedro Shopping foi de R$122,055.00', 'Faturamento da Loja Passei das Águas Shopping foi de R$112,089.00', None, None, None, None, 'Faturamento da Loja Ribeirão Shopping foi de R$112,936.00', 'Faturamento da Loja Rio Mar Recife foi de R$139,869.00', 'Faturamento da Loja Rio Mar Shopping Fortaleza foi de R$127,890.00', 'Faturamento da Loja Salvador Shopping foi de R$129,156.00', None, None, None, 'Faturamento da Loja Shopping Barra foi de R$103,148.00', 'Faturamento da Loja Shopping Center Interlagos foi de R$103,821.00', 'Faturamento da Loja Shopping Center Leste Aricanduva foi de R$86,156.00', 'Faturamento da Loja Shopping Eldorado foi de R$124,339.00', 'Faturamento da Loja Shopping Ibirapuera foi de R$107,907.00', 'Faturamento da Loja Shopping Iguatemi Fortaleza foi de R$124,182.00', 'Faturamento da Loja Shopping Midway Mall foi de R$105,269.00', 'Faturamento da Loja Shopping Morumbi foi de R$117,936.00', 'Faturamento da Loja Shopping Recife foi de R$131,871.00', 'Faturamento da Loja Shopping SP Market foi de R$110,833.00', 'Faturamento da Loja Shopping União de Osasco foi de R$116,032.00', 'Faturamento da Loja Shopping Vila Velha foi de R$115,896.00', None, None, None, None, None, None, None, None]\n",
      "Demorou: 0.7869925498962402\n"
     ]
    },
    {
     "data": {
      "text/plain": [
       "' \\nn_jobs=2    Para 2cores, caso queira o máximo possível, coloque  -1\\n\\ndelayed()()  ->\" delayed(nome da função)(variavel_iteração) list_comprehension \"\\n\\n\\nfor arquivo in arquivos:\\n    if \"xlsx\" in arquivo:\\n        tabela = pd.read_excel(arquivo)\\n        faturamento = tabela[\"Valor Final\"].sum()\\n        print(f\"Faturamento da Loja {arquivo.replace(\\'.xlsx\\', \\'\\')} foi de R${faturamento:,.2f}\")\\nprint(f\"Demorou: {time.time() - tempo_inicial}\")\\n'"
      ]
     },
     "execution_count": 38,
     "metadata": {},
     "output_type": "execute_result"
    }
   ],
   "source": [
    "from joblib import Parallel, delayed\n",
    "\n",
    "tempo_inicial = time.time()   # coleta o tempo/instante na execução do código\n",
    "\n",
    "arquivos = os.listdir()\n",
    "\n",
    "tabela_final = pd.DataFrame()\n",
    "\n",
    "# basta criar a função abaixo e passar como argumento o \"arquivo\", que é a variável do laço FOR\n",
    "# não usar print, pode haver problemas usando nesta biblioteca de processamento paralelo\n",
    "def calcular_faturamento(arquivo):\n",
    "    if \"xlsx\" in arquivo:\n",
    "        tabela = pd.read_excel(arquivo)\n",
    "        faturamento = tabela[\"Valor Final\"].sum()\n",
    "        return(f\"Faturamento da Loja {arquivo.replace('.xlsx', '')} foi de R${faturamento:,.2f}\")\n",
    "\n",
    "# variável abaixo vai armazenar resultado de cada iteração, como uma lista    \n",
    "resultado = Parallel(n_jobs=4)(delayed(calcular_faturamento)(arquivo) for arquivo in arquivos)   \n",
    "\n",
    "print(resultado)\n",
    "print(f\"Demorou: {time.time() - tempo_inicial}\")\n",
    "\n",
    "\n",
    "''' \n",
    "n_jobs=2    Para 2cores, caso queira o máximo possível, coloque  -1\n",
    "\n",
    "delayed()()  ->\" delayed(nome da função)(variavel_iteração) list_comprehension \"\n",
    "\n",
    "\n",
    "for arquivo in arquivos:\n",
    "    if \"xlsx\" in arquivo:\n",
    "        tabela = pd.read_excel(arquivo)\n",
    "        faturamento = tabela[\"Valor Final\"].sum()\n",
    "        print(f\"Faturamento da Loja {arquivo.replace('.xlsx', '')} foi de R${faturamento:,.2f}\")\n",
    "print(f\"Demorou: {time.time() - tempo_inicial}\")\n",
    "'''"
   ]
  }
 ],
 "metadata": {
  "kernelspec": {
   "display_name": "Python 3 (ipykernel)",
   "language": "python",
   "name": "python3"
  },
  "language_info": {
   "codemirror_mode": {
    "name": "ipython",
    "version": 3
   },
   "file_extension": ".py",
   "mimetype": "text/x-python",
   "name": "python",
   "nbconvert_exporter": "python",
   "pygments_lexer": "ipython3",
   "version": "3.9.12"
  }
 },
 "nbformat": 4,
 "nbformat_minor": 5
}
