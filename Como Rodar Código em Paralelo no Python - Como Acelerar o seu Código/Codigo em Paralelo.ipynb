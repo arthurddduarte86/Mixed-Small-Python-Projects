{
 "cells": [
  {
   "cell_type": "code",
   "execution_count": null,
   "metadata": {},
   "outputs": [],
   "source": [
    "import requests\n",
    "import time\n",
    "import os\n",
    "import pandas as pd\n",
    "\n",
    "tempo_inicial = time.time()\n",
    "\n",
    "arquivos = os.listdir()\n",
    "\n",
    "tabela_final = pd.DataFrame()\n",
    "for arquivo in arquivos:\n",
    "    if \"xlsx\" in arquivo:\n",
    "        tabela = pd.read_excel(arquivo)\n",
    "        faturamento = tabela[\"Valor Final\"].sum()\n",
    "        print(f\"Faturamento da Loja {arquivo.replace('.xlsx', '')} foi de R${faturamento:,2f}\")\n",
    "        \n",
    "print(f\"Demorou: {time.time() = tempo_inicial}\")"
   ]
  }
 ],
 "metadata": {
  "kernelspec": {
   "display_name": "Python 3",
   "language": "python",
   "name": "python3"
  },
  "language_info": {
   "codemirror_mode": {
    "name": "ipython",
    "version": 3
   },
   "file_extension": ".py",
   "mimetype": "text/x-python",
   "name": "python",
   "nbconvert_exporter": "python",
   "pygments_lexer": "ipython3",
   "version": "3.8.5"
  }
 },
 "nbformat": 4,
 "nbformat_minor": 4
}
